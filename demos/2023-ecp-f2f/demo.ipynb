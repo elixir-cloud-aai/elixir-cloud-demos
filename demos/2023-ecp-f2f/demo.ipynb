{
 "cells": [
  {
   "cell_type": "markdown",
   "id": "dfba5cdb-f769-4d04-90cd-c8ec30be08a6",
   "metadata": {
    "tags": []
   },
   "source": [
    "# Demonstrator 2023-ecp-f2f\n",
    "\n",
    "Refer to `README.md` for context."
   ]
  },
  {
   "cell_type": "markdown",
   "id": "14bc2771-56c5-4980-a272-820c96d0b825",
   "metadata": {},
   "source": [
    "## 0. Configuration\n",
    "\n",
    "Let's start off by sourcing secrets and defining the locations of the various required services:"
   ]
  },
  {
   "cell_type": "code",
   "execution_count": null,
   "id": "7cad8b4b-f59e-4f65-bf0d-8645309ee4ee",
   "metadata": {
    "tags": []
   },
   "outputs": [],
   "source": [
    "# source secrets\n",
    "source .env\n",
    "\n",
    "# define TES instances\n",
    "unset TES_INSTANCES\n",
    "declare -A TES_INSTANCES\n",
    "TES_INSTANCES[\"Kubernetes @ ELIXIR-CZ\"]=\"https://tesk-na.cloud.e-infra.cz/\"\n",
    "TES_INSTANCES[\"Kubernetes @ ELIXIR-FI\"]=\"https://csc-tesk-noauth.rahtiapp.fi/\"\n",
    "TES_INSTANCES[\"Kubernetes @ ELIXIR-GR\"]=\"https://tesk-eu.hypatia-comp.athenarc.gr/\"\n",
    "TES_INSTANCES[\"OpenPBS @ ELIXIR-CZ\"]=\"https://funnel.cloud.e-infra.cz/\"\n",
    "TES_INSTANCES[\"Slurm @ ELIXIR-FI\"]=\"https://vm4816.kaj.pouta.csc.fi/\"\n",
    "\n",
    "# define storage instance\n",
    "export FTP_INSTANCE=\"ftp://ntc.ics.muni.cz/\""
   ]
  },
  {
   "cell_type": "markdown",
   "id": "381e3335-a343-4504-9799-c8d5f1b5a4d6",
   "metadata": {
    "tags": []
   },
   "source": [
    "## 1. Executing tasks via the GA4GH TES API\n",
    "\n",
    "In this section, we will use both the shell and a dedicated Python library to\n",
    "send tasks to the defined TES instances."
   ]
  },
  {
   "cell_type": "markdown",
   "id": "6780fb81-0d37-43fb-8aa4-a2a3a80069b2",
   "metadata": {},
   "source": [
    "### Using the shell\n",
    "\n",
    "Here, we will use the `curl` library to send requests to the TES APIs. It\n",
    "should be easy to adapt the calls for use with other tools, such as Postman or\n",
    "your favorite progamming language's HTTP request libraries."
   ]
  },
  {
   "cell_type": "markdown",
   "id": "a3869795-9bf5-4642-ba13-020c05e26170",
   "metadata": {},
   "source": [
    "#### **List TES instances**\n",
    "\n",
    "Let's see what TES instances we have defined:"
   ]
  },
  {
   "cell_type": "code",
   "execution_count": null,
   "id": "e68fe37d-05cc-4a54-8a67-3a6c01e5ad8f",
   "metadata": {
    "tags": []
   },
   "outputs": [],
   "source": [
    "for key in \"${!TES_INSTANCES[@]}\"; do\n",
    "    export TES=\"${TES_INSTANCES[$key]}\"\n",
    "    echo \"$key: $TES\"\n",
    "done"
   ]
  },
  {
   "cell_type": "markdown",
   "id": "6cd3db2b-514c-49a4-9175-32a51c6018d5",
   "metadata": {},
   "source": [
    "Let's also export these key-value pairs for later use in Python:"
   ]
  },
  {
   "cell_type": "code",
   "execution_count": null,
   "id": "d06d241f-240f-486c-96c2-5043ef2e08e6",
   "metadata": {
    "tags": []
   },
   "outputs": [],
   "source": [
    "rm -f .tes_instances\n",
    "for key in \"${!TES_INSTANCES[@]}\"; do\n",
    "  printf '%s\\0' \"$key\" \"${TES_INSTANCES[$key]}\"\n",
    "done > .tes_instances"
   ]
  },
  {
   "cell_type": "markdown",
   "id": "d38fe7c4-d146-479b-afd9-a7716a421e4a",
   "metadata": {},
   "source": [
    "#### **Running a minimal task**\n",
    "\n",
    "Now we will submit a very simple task to each of these instances. The task we\n",
    "use here defines no inputs and outputs, so we do not need to read from or write\n",
    "to any storage instances.\n",
    "\n",
    "The payload for the task needs to be provided in JSON format. Nicely formatted,\n",
    "it looks like this:\n",
    "\n",
    "```json\n",
    "{\n",
    "  \"executors\": [\n",
    "    {\n",
    "      \"image\": \"alpine\",\n",
    "      \"command\": [\n",
    "        \"echo\",\n",
    "        \"hello\"\n",
    "      ]\n",
    "    }\n",
    "  ]\n",
    "}\n",
    "```\n",
    "\n",
    "With these instructions, we are asking the TES instance to execute the command\n",
    "`echo hello` in (the default version of) an Alpine Linux container.\n",
    "\n",
    "Let's define the payload to a variable:"
   ]
  },
  {
   "cell_type": "code",
   "execution_count": null,
   "id": "010e6343-a8b8-44ee-afb5-c3ce25f2293e",
   "metadata": {
    "tags": []
   },
   "outputs": [],
   "source": [
    "export PAYLOAD='{\"executors\":[{\"image\":\"alpine\",\"command\":[\"echo\",\"hello\"]}]}'"
   ]
  },
  {
   "cell_type": "markdown",
   "id": "72916da9-1de2-4665-8be6-24f2636af0fe",
   "metadata": {},
   "source": [
    "Now we are ready to submit the tasks:"
   ]
  },
  {
   "cell_type": "code",
   "execution_count": null,
   "id": "8186fe6e-ecf7-4856-b421-7a3c9aa45e8e",
   "metadata": {},
   "outputs": [],
   "source": [
    "unset TASKS\n",
    "declare -A TASKS\n",
    "for key in \"${!TES_INSTANCES[@]}\"; do\n",
    "    export TES=\"${TES_INSTANCES[$key]}\"\n",
    "    echo \"Submitting task to $key ($TES)...\"\n",
    "    TASK_ID=$( \\\n",
    "        curl \\\n",
    "            --silent \\\n",
    "            --request \"POST\" \\\n",
    "            --header \"accept: application/json\" \\\n",
    "            --header \"Content-Type: application/json\" \\\n",
    "            --user \"${FUNNEL_SERVER_USER}:${FUNNEL_SERVER_PASSWORD}\" \\\n",
    "            --data \"$PAYLOAD\" \\\n",
    "            \"${TES%/}/v1/tasks\" | \\\n",
    "        jq \".id\" - | \\\n",
    "        tr -d '\"'\n",
    "    )\n",
    "    if [ $TASK_ID == \"null\" ]; then\n",
    "        echo \"FAILED\"\n",
    "    else\n",
    "        echo \"Task ID: $TASK_ID\"\n",
    "        TASKS[\"$TASK_ID\"]=\"$TES\"\n",
    "    fi\n",
    "done"
   ]
  },
  {
   "cell_type": "markdown",
   "id": "5fbf53cf-de1e-43e4-920d-ca52dff6b29e",
   "metadata": {},
   "source": [
    "Let's see how the execution of successfully submitted tasks is progressing:"
   ]
  },
  {
   "cell_type": "code",
   "execution_count": null,
   "id": "ce17adf7-88a6-4738-9f1f-b6d243010fbb",
   "metadata": {
    "tags": []
   },
   "outputs": [],
   "source": [
    "for TASK_ID in \"${!TASKS[@]}\"; do\n",
    "    export TES=\"${TASKS[$TASK_ID]}\"\n",
    "    echo -\"Checking state of task '$TASK_ID' ($TES)...\"\n",
    "    TASK_STATE=$( \\\n",
    "        curl \\\n",
    "            --silent \\\n",
    "            --request \"GET\" \\\n",
    "            --header \"accept: application/json\" \\\n",
    "            --header \"Content-Type: application/json\" \\\n",
    "            --user \"${FUNNEL_SERVER_USER}:${FUNNEL_SERVER_PASSWORD}\" \\\n",
    "            \"${TES%/}/v1/tasks/${TASK_ID}\" | \\\n",
    "        tee /dev/null | \\\n",
    "        jq \".state\" - | \\\n",
    "        tr -d '\"'\n",
    "    )\n",
    "    echo \"Task state: $TASK_STATE\"\n",
    "done"
   ]
  },
  {
   "cell_type": "markdown",
   "id": "2e120ede-9fd7-4cee-b58e-ef7a1b1fd7e7",
   "metadata": {},
   "source": [
    "#### **Running a task with inputs and outputs**\n",
    "\n",
    "Let's try a little more realistic task with an input (from the web) and an\n",
    "output (written to an FTP instance).\n",
    "\n",
    "We define the following payload:\n",
    "\n",
    "```json\n",
    "{\n",
    "  \"name\": \"md5sum\",\n",
    "  \"description\": \"calculate md5sum of input file and write to output file\",\n",
    "  \"tags\": {\n",
    "    \"project\": \"2023-ecp-f2f Demonstrator\",\n",
    "    \"project_owner\": \"ELIXIR Cloud & AAI\"\n",
    "  },\n",
    "  \"executors\": [\n",
    "    {\n",
    "      \"command\": [\n",
    "        \"md5sum\",\n",
    "        \"/data/input\"\n",
    "      ],\n",
    "      \"image\": \"alpine\",\n",
    "      \"stdout\": \"/data/output\",\n",
    "      \"workdir\": \"/data\"\n",
    "    }\n",
    "  ],\n",
    "  \"inputs\": [\n",
    "    {\n",
    "      \"url\": \"{{INPUT_FILE}}\",\n",
    "      \"path\": \"/data/input\"\n",
    "    }\n",
    "  ],\n",
    "  \"outputs\": [\n",
    "    {\n",
    "      \"path\": \"/data/output\",\n",
    "      \"url\": \"{{FTP_INSTANCE}}/2023-ecp-f2f/md5sum\",\n",
    "      \"type\": \"FILE\"\n",
    "    }\n",
    "  ],\n",
    "  \"resources\": {\n",
    "    \"cpu_cores\": 1,\n",
    "    \"disk_gb\": 1,\n",
    "    \"preemptible\": false,\n",
    "    \"ram_gb\": 1\n",
    "  }\n",
    "}\n",
    "```\n",
    "\n",
    "As you can see, here we determine the MD5 sum of an input file, write it to an\n",
    "output file inside the container, and finally copy it over to an FTP server.\n",
    "\n",
    "Let's minify that and replace the placeholders `{{INPUT_FILE}}` and\n",
    "`{{FTP_INSTANCE}}` with some actual values.\n",
    "\n",
    "> Note that because Funnel does currently only allow [passing FTP storage\n",
    "> credentials via the FTP\n",
    "> URL](https://ohsu-comp-bio.github.io/funnel/docs/storage/ftp/) and TESK does\n",
    "> not support FTP URLs with credentials, we need to use different payloads for\n",
    "> the two services!"
   ]
  },
  {
   "cell_type": "code",
   "execution_count": null,
   "id": "1454c4e4-7ed2-42d3-aa38-379788d120c1",
   "metadata": {
    "tags": []
   },
   "outputs": [],
   "source": [
    "PAYLOAD_RAW='{\"name\":\"md5sum\",\"description\":\"calculate md5sum of input file and write to output file\",\"tags\":{\"project\":\"2023-ecp-f2f Demonstrator\",\"project_owner\":\"ELIXIR Cloud & AAI\"},\"executors\":[{\"command\":[\"md5sum\",\"/data/input\"],\"image\":\"alpine\",\"stdout\":\"/data/output\",\"workdir\":\"/data\"}],\"inputs\":[{\"url\":\"{{INPUT_FILE}}\",\"path\":\"/data/input\"}],\"outputs\":[{\"path\":\"/data/output\",\"url\":\"{{FTP_INSTANCE}}/2023-ecp-f2f/md5sum\",\"type\":\"FILE\"}],\"resources\":{\"cpu_cores\":1,\"disk_gb\":1,\"preemptible\":false,\"ram_gb\":1}}'\n",
    "PAYLOAD_TMP=$(sed 's#{{INPUT_FILE}}#https://raw.githubusercontent.com/elixir-cloud-aai/elixir-cloud-demos/df5be391faf992ebcd5ec2b2aad581c99de26101/LICENSE#' <<< $PAYLOAD_RAW)\n",
    "export PAYLOAD_TESK=$(sed \"s|{{FTP_INSTANCE}}|${FTP_INSTANCE%/}|\" <<< $PAYLOAD_TMP)\n",
    "export PAYLOAD_FUNNEL=$(sed \"s|ftp://|ftp://${FTP_USER}:${FTP_PASSWORD}@|g\" <<< $PAYLOAD_TESK)"
   ]
  },
  {
   "cell_type": "markdown",
   "id": "47e6d2df-7c63-45b4-95c3-cff841d3bb8b",
   "metadata": {},
   "source": [
    "Let's submit as before (but setting the payload according to the service):"
   ]
  },
  {
   "cell_type": "code",
   "execution_count": null,
   "id": "4ebd3294-f65d-47ee-8f97-099ef44fc32a",
   "metadata": {},
   "outputs": [],
   "source": [
    "unset TASKS\n",
    "declare -A TASKS\n",
    "for key in \"${!TES_INSTANCES[@]}\"; do\n",
    "    export TES=\"${TES_INSTANCES[$key]}\"\n",
    "    if [[ $key =~ \"Kubernetes\" ]]; then\n",
    "        export PAYLOAD=\"$PAYLOAD_TESK\"\n",
    "        export SERVICE=\"TESK\"\n",
    "    else\n",
    "        export PAYLOAD=\"$PAYLOAD_FUNNEL\"\n",
    "        export SERVICE=\"Funnel\"\n",
    "    fi\n",
    "    echo \"Submitting task to $key ($SERVICE deployed at $TES)...\"\n",
    "    TASK_ID=$( \\\n",
    "        curl \\\n",
    "            --silent \\\n",
    "            --request \"POST\" \\\n",
    "            --header \"accept: application/json\" \\\n",
    "            --header \"Content-Type: application/json\" \\\n",
    "            --user \"${FUNNEL_SERVER_USER}:${FUNNEL_SERVER_PASSWORD}\" \\\n",
    "            --data \"$PAYLOAD\" \\\n",
    "            \"${TES%/}/v1/tasks\" | \\\n",
    "        jq \".id\" - | \\\n",
    "        tr -d '\"'\n",
    "    )\n",
    "    if [ $TASK_ID == \"null\" ]; then\n",
    "        echo \"FAILED\"\n",
    "    else\n",
    "        echo \"Task ID: $TASK_ID\"\n",
    "        TASKS[\"$TASK_ID\"]=\"$TES\"\n",
    "    fi\n",
    "done"
   ]
  },
  {
   "cell_type": "markdown",
   "id": "76cdfb98-7a8c-4cab-9270-33ec79d4549c",
   "metadata": {},
   "source": [
    "And check the states, but with a lot more detail:"
   ]
  },
  {
   "cell_type": "code",
   "execution_count": null,
   "id": "f21dbec3-ff97-454f-921c-39a971f14f11",
   "metadata": {
    "tags": []
   },
   "outputs": [],
   "source": [
    "export VIEW=BASIC\n",
    "for TASK_ID in \"${!TASKS[@]}\"; do\n",
    "    export TES=\"${TASKS[$TASK_ID]}\"\n",
    "    echo \"================================================================================\"\n",
    "    echo \"Logs of task '$TASK_ID' ($TES): \"\n",
    "    echo \"================================================================================\"\n",
    "    TASK_STATE=$( \\\n",
    "        curl \\\n",
    "            --silent \\\n",
    "            --request \"GET\" \\\n",
    "            --header \"accept: application/json\" \\\n",
    "            --header \"Content-Type: application/json\" \\\n",
    "            --user \"${FUNNEL_SERVER_USER}:${FUNNEL_SERVER_PASSWORD}\" \\\n",
    "            \"${TES%/}/v1/tasks/${TASK_ID}?view=${VIEW}\" | \\\n",
    "        jq . - | \\\n",
    "        sed \"s/${FTP_USER}:${FTP_PASSWORD}@//g\"  # remove FTP credentials from logs\n",
    "    )\n",
    "    echo -e \"$TASK_STATE\\n\"\n",
    "done"
   ]
  },
  {
   "cell_type": "markdown",
   "id": "7c4127a9-c835-4611-a3f7-d19f9269345c",
   "metadata": {},
   "source": [
    "#### **Other TES operations**\n",
    "\n",
    "We have seen how we can submit tasks and get summary or detailed information on\n",
    "individual tasks.\n",
    "\n",
    "The full list of currently supported operations is:\n",
    "\n",
    "| HTTP Method | Endpoint | Description |\n",
    "| --- | --- | --- |\n",
    "| GET | `/service-info` | Fetch information about the service and its optional capabilities |\n",
    "| POST | `/tasks` | Create a task |\n",
    "| GET | `/tasks` | Fetch a list of all tasks |\n",
    "| GET | `/tasks/{task_id}` | Fetch details about a specific task |\n",
    "| GET | `/tasks/{task_id}:cancel` | Cancel a task |"
   ]
  },
  {
   "cell_type": "markdown",
   "id": "6663d42f-5cf3-4d29-b8b9-e6bae65d1d2b",
   "metadata": {},
   "source": [
    "### Using the `py-tes` Python library\n",
    "\n",
    "In this section, we are submitting the simple task from above using the Python\n",
    "TES client `py-tes`.\n",
    "\n",
    "Usage is simple (from the [`py-tes` repository](https://github.com/ohsu-comp-bio/py-tes)):\n",
    "\n",
    "```python\n",
    "import tes\n",
    "\n",
    "task = tes.Task(\n",
    "    executors=[\n",
    "        tes.Executor(\n",
    "            image=\"alpine\",\n",
    "            command=[\"echo\", \"hello\"]\n",
    "        )\n",
    "    ]\n",
    ")\n",
    "\n",
    "cli = tes.HTTPClient(\"http://funnel.example.com\", timeout=5)\n",
    "task_id = cli.create_task(task)\n",
    "res = cli.get_task(task_id)\n",
    "```\n",
    "\n",
    "To do so, we will execute Python script `task_submission.py`, which triggers\n",
    "the execution of our task on the TES instances configured at the top of the\n",
    "notebook."
   ]
  },
  {
   "cell_type": "code",
   "execution_count": null,
   "id": "c26d45ea-2f1f-477a-82b2-ff091988a768",
   "metadata": {
    "tags": []
   },
   "outputs": [],
   "source": [
    "./task_submission.py"
   ]
  }
 ],
 "metadata": {
  "kernelspec": {
   "display_name": "Bash",
   "language": "bash",
   "name": "bash"
  },
  "language_info": {
   "codemirror_mode": "shell",
   "file_extension": ".sh",
   "mimetype": "text/x-sh",
   "name": "bash"
  }
 },
 "nbformat": 4,
 "nbformat_minor": 5
}
